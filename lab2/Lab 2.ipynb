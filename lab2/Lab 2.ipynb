{
 "cells": [
  {
   "cell_type": "code",
   "execution_count": 1,
   "metadata": {},
   "outputs": [],
   "source": [
    "\"\"\"\n",
    "This project was developed by Peter Chen, Rocky Duan, Pieter Abbeel for the Berkeley Deep RL Bootcamp, August 2017.\n",
    "Bootcamp website with slides and lecture videos: https://sites.google.com/view/deep-rl-bootcamp/.\n",
    "\n",
    "Code adapted from Stanford CS231N materials: http://cs231n.stanford.edu/\n",
    "\"\"\"\n",
    "\n",
    "\n",
    "# note to properly run this lab, you should execute all code blocks sequentially\n",
    "import chainer\n",
    "import chainer.functions as F\n",
    "import chainer.links as L\n",
    "from chainer import training\n",
    "from chainer.training import extensions\n",
    "\n",
    "from collections import namedtuple, defaultdict, deque\n",
    "\n",
    "import numpy as np\n",
    "\n",
    "%matplotlib inline\n",
    "\n",
    "import matplotlib\n",
    "import matplotlib.pyplot as plt"
   ]
  },
  {
   "cell_type": "markdown",
   "metadata": {},
   "source": [
    "## Introduction to Chainer\n",
    "\n",
    "Chainer can be understood as Numpy plus the ability to record the computation graph of numerical operations to enable Automatic Differentiation. (Chainer actually also offers many other things; for example, a Numpy equivalent library that runs on GPU, but we will ignore them for now)"
   ]
  },
  {
   "cell_type": "markdown",
   "metadata": {},
   "source": [
    "Let's illustrate how Chainer works by a simple 1D regression task.\n",
    "\n",
    "Suppose we have observations from the following model $y = w x + b + \\epsilon$ where $\\epsilon \\sim \\mathcal{N}(0, 0.1)$ and the task is to estimate the linear model parameters $w, b$ from data."
   ]
  },
  {
   "cell_type": "code",
   "execution_count": 2,
   "metadata": {},
   "outputs": [
    {
     "data": {
      "image/png": "[encoded data removed]",
      "text/plain": [
       "<Figure size 432x288 with 1 Axes>"
      ]
     },
     "metadata": {
      "needs_background": "light"
     },
     "output_type": "display_data"
    }
   ],
   "source": [
    "# first generate some observations\n",
    "true_a = 1.3\n",
    "true_b = 0.4\n",
    "data_x = (np.arange(100) / 99.0 - .5).astype(np.float32) # Chainer assumes all the cpu computation is done in float32\n",
    "data_y = (data_x * true_a + true_b + np.random.randn(*data_x.shape) * 0.1).astype(np.float32)\n",
    "_ = plt.scatter(data_x, data_y, c='b')"
   ]
  },
  {
   "cell_type": "markdown",
   "metadata": {},
   "source": [
    "Chainer provides an abstraction called `Link` that describe some computation and keeps track of parameters for it. For instance, a `Linear` link describes a linear map on input and keeps track of `w` and bias `b`."
   ]
  },
  {
   "cell_type": "code",
   "execution_count": 3,
   "metadata": {},
   "outputs": [
    {
     "name": "stdout",
     "output_type": "stream",
     "text": [
      "w: variable W([[ 1.30791628]])\n",
      "b: variable b([ 0.])\n",
      "Operations on chainer.Variable: variable([[ 124.30791473]]), type: <class 'chainer.variable.Variable'>\n",
      "numpy arrays: [[ 1.30791628]] [[ 124.30791473]]\n"
     ]
    }
   ],
   "source": [
    "model = L.Linear(in_size=1, out_size=1) # input is 1D data and output is also 1D data\n",
    "\n",
    "# Chainer will randomly initialize `w` and `b` for us.\n",
    "# we can take a look at their values\n",
    "print(\"w:\", model.W)\n",
    "print(\"b:\", model.b)\n",
    "\n",
    "# model.W and model.b have type `chainer.Variable`, \n",
    "#   which is a wrapper around Numpy array\n",
    "assert isinstance(model.W, chainer.Variable)\n",
    "\n",
    "# operations that involve `chainer.Variable` will produce\n",
    "#   `chainer.Variable` and this records the computation graph\n",
    "var_result = model.W + 123 # some random computation\n",
    "print(\"Operations on chainer.Variable: %s, type: %s\" % (var_result, type(var_result)))\n",
    "\n",
    "# the underlying numpy array can be accessed by `data` attribute\n",
    "print(\"numpy arrays:\", model.W.data, var_result.data)"
   ]
  },
  {
   "cell_type": "code",
   "execution_count": 4,
   "metadata": {},
   "outputs": [
    {
     "data": {
      "image/png": "[encoded data removed]",
      "text/plain": [
       "<Figure size 432x288 with 1 Axes>"
      ]
     },
     "metadata": {
      "needs_background": "light"
     },
     "output_type": "display_data"
    }
   ],
   "source": [
    "# A chainer link is a callable object. calling it performs the\n",
    "#   forward computation. (in this case, it performs Wx + b)\n",
    "model_y = model(data_x[:, None]) # chainer's link usually assumes input is [Batch Size, Input Dimension]\n",
    "# `model_y` is a chainer variable so we use `.data` to access its numpy array for plotting\n",
    "\n",
    "# we can plot the model's current fit in red. it should be terrible because we haven't trained it yet\n",
    "_ = plt.plot(data_x, model_y.data[:,0], c='r')\n",
    "_ = plt.scatter(data_x, data_y, c='b')\n",
    "_ = plt.title(\"Initial model\")"
   ]
  },
  {
   "cell_type": "code",
   "execution_count": 5,
   "metadata": {},
   "outputs": [
    {
     "name": "stdout",
     "output_type": "stream",
     "text": [
      "loss variable(0.17905700206756592)\n",
      "dloss/dW [[ 0.00447951]]\n"
     ]
    }
   ],
   "source": [
    "# now let's walk through how to perform forward computation\n",
    "#  and use AD to get gradients\n",
    "\n",
    "# first we clear the gradients that are stored in the model\n",
    "model.cleargrads()\n",
    "# as we have seen we can perform forward computation by calling the link\n",
    "model_y = model(data_x[:, None])\n",
    "\n",
    "# remember that `model_y` is a chainer variable. to operate on chainer variable\n",
    "#    we will use functions from chainer.functions to operate on those objects.\n",
    "loss = F.mean(F.square(model_y - data_y[:, None]))\n",
    "# `loss` is a scalar chainer variable\n",
    "assert isinstance(loss, chainer.Variable)\n",
    "print(\"loss\", loss)\n",
    "# calculating gradients d loss /d params is as simple as\n",
    "loss.backward()\n",
    "\n",
    "# we can inspect the gradient of loss with respect to W\n",
    "print(\"dloss/dW\", model.W.grad)"
   ]
  },
  {
   "cell_type": "markdown",
   "metadata": {},
   "source": [
    "Now that we know how to calculate gradients, we can code up a simple loop to perform gradient descent to train this model:\n",
    "\n",
    "(Hint: if you run into weird problems, maybe the state has been messed up and you can try re-runing all the code blocks from the beginning)"
   ]
  },
  {
   "cell_type": "code",
   "execution_count": 6,
   "metadata": {},
   "outputs": [
    {
     "name": "stdout",
     "output_type": "stream",
     "text": [
      "Itr 0 loss: variable(0.23113538324832916)\n",
      "       dloss/dW [[-0.13315484]]\n",
      "       dloss/db [-0.81902927]\n",
      " \n",
      "Itr 25 loss: variable(0.01723727025091648)\n",
      "       dloss/dW [[-0.04495014]]\n",
      "       dloss/db [  6.98491931e-10]\n",
      " \n",
      "Itr 50 loss: variable(0.01197284460067749)\n",
      "       dloss/dW [[-0.01517419]]\n",
      "       dloss/db [ -6.86850399e-09]\n",
      " \n",
      "Itr 75 loss: variable(0.011372911743819714)\n",
      "       dloss/dW [[-0.00512246]]\n",
      "       dloss/db [ -5.64614311e-09]\n",
      " \n"
     ]
    },
    {
     "data": {
      "image/png": "[encoded data removed]",
      "text/plain": [
       "<Figure size 432x288 with 1 Axes>"
      ]
     },
     "metadata": {
      "needs_background": "light"
     },
     "output_type": "display_data"
    },
    {
     "data": {
      "image/png": "[encoded data removed]",
      "text/plain": [
       "<Figure size 432x288 with 1 Axes>"
      ]
     },
     "metadata": {
      "needs_background": "light"
     },
     "output_type": "display_data"
    }
   ],
   "source": [
    "# now we can perform gradient descent to improve this model\n",
    "model = L.Linear(in_size=1, out_size=1)\n",
    "losses = []\n",
    "\n",
    "alpha = 0.25 # learning rate\n",
    "\n",
    "for i in range(100):\n",
    "    model.cleargrads()\n",
    "    loss = F.mean(F.square(model(data_x[:, None]) - data_y[:, None]))\n",
    "    losses.append(float(loss.data))\n",
    "    ## *** YOUR CODE HERE TO PERFORM GRADIENT DESCENT ***\n",
    "    ## Hint: you could access gradients with model.W.grad, model.b.grad\n",
    "    ## Hint2: you could write data into a parameter with model.W.data[:] = some_numpy_array\n",
    "    ## Hint3: if your model doesn't learn, remember to try different learning rates\n",
    "    loss.backward()\n",
    "    model.W.data[:] = model.W.data[:] - alpha*model.W.grad\n",
    "    model.b.data[:] = model.b.data[:] - alpha*model.b.grad\n",
    "    if i % 25 == 0:\n",
    "        print(\"Itr\", i, \"loss:\", loss)\n",
    "        print(\"       dloss/dW\", model.W.grad)\n",
    "        print(\"       dloss/db\", model.b.grad)\n",
    "        print(\" \")\n",
    "plt.plot(np.array(losses))\n",
    "plt.title(\"Learning curve\")\n",
    "plt.figure()\n",
    "plt.plot(data_x, model(data_x[:, None])[:,0].data, c='r')\n",
    "plt.scatter(data_x, data_y, c='b')\n",
    "_ = plt.title(\"Trained model fitness\")\n"
   ]
  },
  {
   "cell_type": "markdown",
   "metadata": {},
   "source": [
    "## Train your first deep model\n",
    "\n",
    "Now we have learned the basics of Chainer. We can use it to train a deep model to classify MNIST digits. We will train a model on the MNIST dataset because the dataset is small.\n",
    "\n",
    "First we load the data and see what the images look like:"
   ]
  },
  {
   "cell_type": "code",
   "execution_count": 7,
   "metadata": {},
   "outputs": [
    {
     "name": "stdout",
     "output_type": "stream",
     "text": [
      "train[i][0] is the ith image that's flattened, and has shape: (784,)\n",
      "train[i][1] is the ith image's label, such as: 3\n"
     ]
    },
    {
     "data": {
      "image/png": "[encoded data removed]",
      "text/plain": [
       "<Figure size 432x288 with 1 Axes>"
      ]
     },
     "metadata": {
      "needs_background": "light"
     },
     "output_type": "display_data"
    },
    {
     "data": {
      "image/png": "[encoded data removed]",
      "text/plain": [
       "<Figure size 432x288 with 1 Axes>"
      ]
     },
     "metadata": {
      "needs_background": "light"
     },
     "output_type": "display_data"
    }
   ],
   "source": [
    "train, test = chainer.datasets.get_mnist()\n",
    "# use train[data_point_index] to access data\n",
    "print(\"train[i][0] is the ith image that's flattened, and has shape:\", train[12][0].shape)\n",
    "print(\"train[i][1] is the ith image's label, such as:\", train[12][1])\n",
    "# here we visualize two of them\n",
    "plt.imshow(train[12][0].reshape([28, 28,]))\n",
    "plt.title(\"Label: %s\" % train[12][1])\n",
    "plt.figure()\n",
    "plt.imshow(train[42][0].reshape([28, 28,]))\n",
    "_ = plt.title(\"Label: %s\" % train[42][1])"
   ]
  },
  {
   "cell_type": "markdown",
   "metadata": {},
   "source": [
    "Next we will provide some boilerplate code and train a linear classifier as an example:"
   ]
  },
  {
   "cell_type": "code",
   "execution_count": 8,
   "metadata": {},
   "outputs": [
    {
     "name": "stdout",
     "output_type": "stream",
     "text": [
      "accuracy: 0.1875; loss: 2.339199543\n",
      "accuracy: 0.8525; loss: 0.610573093891\n",
      "accuracy: 0.8625; loss: 0.481915363669\n",
      "accuracy: 0.91; loss: 0.363705642819\n",
      "accuracy: 0.895; loss: 0.422051185369\n",
      "accuracy: 0.8725; loss: 0.479789161682\n",
      "accuracy: 0.915; loss: 0.319315420985\n",
      "accuracy: 0.9075; loss: 0.350436705947\n",
      "accuracy: 0.925; loss: 0.294289987981\n",
      "accuracy: 0.9; loss: 0.344683943689\n",
      "accuracy: 0.8925; loss: 0.337583599389\n",
      "accuracy: 0.9425; loss: 0.2641899997\n",
      "accuracy: 0.9125; loss: 0.319886182845\n",
      "accuracy: 0.935; loss: 0.28925519973\n",
      "accuracy: 0.9325; loss: 0.256104053259\n",
      "accuracy: 0.91; loss: 0.300839702785\n",
      "accuracy: 0.9475; loss: 0.234403056204\n",
      "accuracy: 0.91; loss: 0.355685281456\n",
      "accuracy: 0.8975; loss: 0.336380317211\n",
      "accuracy: 0.91; loss: 0.31635397017\n",
      "accuracy: 0.9075; loss: 0.33259310782\n",
      "accuracy: 0.93; loss: 0.274948348999\n",
      "accuracy: 0.93; loss: 0.269016833603\n",
      "accuracy: 0.93; loss: 0.27921595782\n",
      "accuracy: 0.9425; loss: 0.194205271006\n",
      "accuracy: 0.915; loss: 0.31575915724\n"
     ]
    }
   ],
   "source": [
    "def run(model, batchsize=16, num_epochs=2):\n",
    "    \n",
    "    optimizer = chainer.optimizers.Adam() # we will use chainer's Adam implementation instead of writing our own gradient based optimization\n",
    "    optimizer.setup(model)\n",
    "    \n",
    "    stats = defaultdict(lambda: deque(maxlen=25))\n",
    "    for epoch in range(num_epochs):\n",
    "        train_iter = chainer.iterators.SerialIterator(train, batchsize, repeat=False, shuffle=True)\n",
    "        test_iter = chainer.iterators.SerialIterator(test, batchsize, repeat=False, shuffle=False)\n",
    "        \n",
    "        for itr, batch in enumerate(train_iter):\n",
    "            xs = np.concatenate([datum[0][None, :] for datum in batch])\n",
    "            ys = np.array([datum[1] for datum in batch])\n",
    "\n",
    "            logits = model(xs)\n",
    "\n",
    "            loss = F.softmax_cross_entropy(logits, ys)\n",
    "            model.cleargrads()\n",
    "            loss.backward()\n",
    "            optimizer.update()\n",
    "            \n",
    "            # calculate stats\n",
    "            stats[\"loss\"].append(float(loss.data))\n",
    "            stats[\"accuracy\"].append(float((logits.data.argmax(1) == ys).sum() / batchsize))\n",
    "            if itr % 300 == 0:\n",
    "                print(\"; \".join(\"%s: %s\" % (k, np.mean(vs)) for k, vs in stats.items()))\n",
    "\n",
    "# try a simple linear model\n",
    "run(L.Linear(None, 10))"
   ]
  },
  {
   "cell_type": "markdown",
   "metadata": {},
   "source": [
    "Next we will try to improve performance by training an MLP instead. A partial implementation is provided for you to fill in:"
   ]
  },
  {
   "cell_type": "code",
   "execution_count": 9,
   "metadata": {},
   "outputs": [
    {
     "name": "stdout",
     "output_type": "stream",
     "text": [
      "accuracy: 0.125; loss: 2.29433202744\n",
      "accuracy: 0.87; loss: 0.385919202566\n",
      "accuracy: 0.9175; loss: 0.249869808257\n",
      "accuracy: 0.93; loss: 0.208626241088\n",
      "accuracy: 0.9275; loss: 0.238432962596\n",
      "accuracy: 0.9725; loss: 0.110300750136\n",
      "accuracy: 0.93; loss: 0.213476344943\n",
      "accuracy: 0.9475; loss: 0.172564961016\n",
      "accuracy: 0.9575; loss: 0.137827510536\n",
      "accuracy: 0.96; loss: 0.0893536970019\n",
      "accuracy: 0.94; loss: 0.197262060046\n",
      "accuracy: 0.9725; loss: 0.108370045125\n",
      "accuracy: 0.96; loss: 0.0990825936198\n",
      "accuracy: 0.9525; loss: 0.137567186356\n",
      "accuracy: 0.9775; loss: 0.0637328308821\n",
      "accuracy: 0.9825; loss: 0.077839179039\n",
      "accuracy: 0.9825; loss: 0.0614929652214\n",
      "accuracy: 0.97; loss: 0.135711590052\n",
      "accuracy: 0.9825; loss: 0.0741582334042\n",
      "accuracy: 0.9625; loss: 0.118809273541\n",
      "accuracy: 0.985; loss: 0.0412441682816\n",
      "accuracy: 0.9675; loss: 0.0747618317604\n",
      "accuracy: 0.9625; loss: 0.164812644124\n",
      "accuracy: 0.975; loss: 0.0958293166757\n",
      "accuracy: 0.975; loss: 0.090879881084\n",
      "accuracy: 0.975; loss: 0.0802010270953\n"
     ]
    }
   ],
   "source": [
    "class MLP(chainer.Chain):\n",
    "\n",
    "    def __init__(self, n_units, n_out):\n",
    "        super(MLP, self).__init__()\n",
    "        with self.init_scope():\n",
    "            # the size of the inputs to each layer will be inferred\n",
    "            self.l1 = L.Linear(None, n_units)  # n_in -> n_units\n",
    "            self.l2 = L.Linear(None, n_units)  # n_units -> n_units\n",
    "            self.l3 = L.Linear(None, n_out)  # n_units -> n_out\n",
    "\n",
    "    def __call__(self, x):\n",
    "        # *** YOUR CODE HERE TO BUILD AN MLP W/ self.l1, self.l2, self.l3 ***\n",
    "        \n",
    "        h1 = F.relu(self.l1(x))\n",
    "        h2 = F.relu(self.l2(h1))\n",
    "        y = self.l3(h2)\n",
    "        \n",
    "        # Hint: you should make use of non-linearities / activation functions\n",
    "        #     https://docs.chainer.org/en/stable/reference/functions.html#activation-functions\n",
    "        \n",
    "        # raise NotImplementedError()\n",
    "        \n",
    "        return y\n",
    "        \n",
    "run(MLP(200, 10))"
   ]
  },
  {
   "cell_type": "markdown",
   "metadata": {},
   "source": [
    "Credits to: http://corochann.com/mnist-training-with-multi-layer-perceptron-1149.html"
   ]
  },
  {
   "cell_type": "markdown",
   "metadata": {},
   "source": [
    "Next you should try to implement logging test loss and see if the model is overfitting."
   ]
  },
  {
   "cell_type": "code",
   "execution_count": 10,
   "metadata": {},
   "outputs": [
    {
     "name": "stdout",
     "output_type": "stream",
     "text": [
      "TRAIN | accuracy: 0.125 | loss: 2.32615995407\n",
      "---------------------------------------------------\n",
      "TEST  | accuracy: 0.1775 | loss: 2.27430354118\n",
      " \n",
      " \n",
      "TRAIN | accuracy: 0.9075 | loss: 0.332442179322\n",
      "---------------------------------------------------\n",
      "TEST  | accuracy: 0.865 | loss: 0.514712740183\n",
      " \n",
      " \n",
      "TRAIN | accuracy: 0.92 | loss: 0.309465705156\n",
      "---------------------------------------------------\n",
      "TEST  | accuracy: 0.8775 | loss: 0.387303463221\n",
      " \n",
      " \n",
      "TRAIN | accuracy: 0.9275 | loss: 0.294646081328\n",
      "---------------------------------------------------\n",
      "TEST  | accuracy: 0.8975 | loss: 0.337656912506\n",
      " \n",
      " \n",
      "TRAIN | accuracy: 0.9525 | loss: 0.18687145412\n",
      "---------------------------------------------------\n",
      "TEST  | accuracy: 0.905 | loss: 0.307434721589\n",
      " \n",
      " \n",
      "TRAIN | accuracy: 0.945 | loss: 0.185095717311\n",
      "---------------------------------------------------\n",
      "TEST  | accuracy: 0.925 | loss: 0.230453209877\n",
      " \n",
      " \n",
      "TRAIN | accuracy: 0.94 | loss: 0.200936285555\n",
      "---------------------------------------------------\n",
      "TEST  | accuracy: 0.9275 | loss: 0.244730534256\n",
      " \n",
      " \n",
      "TRAIN | accuracy: 0.9425 | loss: 0.14023702383\n",
      "---------------------------------------------------\n",
      "TEST  | accuracy: 0.92 | loss: 0.281598834991\n",
      " \n",
      " \n",
      "TRAIN | accuracy: 0.975 | loss: 0.098522888422\n",
      "---------------------------------------------------\n",
      "TEST  | accuracy: 0.9225 | loss: 0.234249519706\n",
      " \n",
      " \n",
      "TRAIN | accuracy: 0.96 | loss: 0.145245315135\n",
      "---------------------------------------------------\n",
      "TEST  | accuracy: 0.92 | loss: 0.26401606828\n",
      " \n",
      " \n",
      "TRAIN | accuracy: 0.9625 | loss: 0.125251555145\n",
      "---------------------------------------------------\n",
      "TEST  | accuracy: 0.94 | loss: 0.212623184025\n",
      " \n",
      " \n",
      "TRAIN | accuracy: 0.97 | loss: 0.117891863883\n",
      "---------------------------------------------------\n",
      "TEST  | accuracy: 0.945 | loss: 0.197695519328\n",
      " \n",
      " \n",
      "TRAIN | accuracy: 0.95 | loss: 0.201503722668\n",
      "---------------------------------------------------\n",
      "TEST  | accuracy: 0.925 | loss: 0.238546050787\n",
      " \n",
      " \n",
      "TRAIN | accuracy: 0.975 | loss: 0.077139365375\n",
      "---------------------------------------------------\n",
      "TEST  | accuracy: 0.95 | loss: 0.173933447003\n",
      " \n",
      " \n",
      "TRAIN | accuracy: 0.9825 | loss: 0.0646461421251\n",
      "---------------------------------------------------\n",
      "TEST  | accuracy: 0.945 | loss: 0.169347706437\n",
      " \n",
      " \n",
      "TRAIN | accuracy: 0.97 | loss: 0.133234245777\n",
      "---------------------------------------------------\n",
      "TEST  | accuracy: 0.935 | loss: 0.18556294322\n",
      " \n",
      " \n",
      "TRAIN | accuracy: 0.9725 | loss: 0.0656343132257\n",
      "---------------------------------------------------\n",
      "TEST  | accuracy: 0.9325 | loss: 0.193375782669\n",
      " \n",
      " \n",
      "TRAIN | accuracy: 0.975 | loss: 0.0784528768063\n",
      "---------------------------------------------------\n",
      "TEST  | accuracy: 0.94 | loss: 0.221010852158\n",
      " \n",
      " \n",
      "TRAIN | accuracy: 0.9725 | loss: 0.0979199278355\n",
      "---------------------------------------------------\n",
      "TEST  | accuracy: 0.9525 | loss: 0.163922494054\n",
      " \n",
      " \n",
      "TRAIN | accuracy: 0.9775 | loss: 0.0712225919962\n",
      "---------------------------------------------------\n",
      "TEST  | accuracy: 0.9575 | loss: 0.171868308783\n",
      " \n",
      " \n",
      "TRAIN | accuracy: 0.97 | loss: 0.0759113696218\n",
      "---------------------------------------------------\n",
      "TEST  | accuracy: 0.9575 | loss: 0.14401398778\n",
      " \n",
      " \n",
      "TRAIN | accuracy: 0.97 | loss: 0.0876540133357\n",
      "---------------------------------------------------\n",
      "TEST  | accuracy: 0.955 | loss: 0.182038576007\n",
      " \n",
      " \n",
      "TRAIN | accuracy: 0.9675 | loss: 0.119733507037\n",
      "---------------------------------------------------\n",
      "TEST  | accuracy: 0.94 | loss: 0.187707256079\n",
      " \n",
      " \n",
      "TRAIN | accuracy: 0.985 | loss: 0.052038834095\n",
      "---------------------------------------------------\n",
      "TEST  | accuracy: 0.9575 | loss: 0.151351723671\n",
      " \n",
      " \n",
      "TRAIN | accuracy: 0.9725 | loss: 0.0680162474513\n",
      "---------------------------------------------------\n",
      "TEST  | accuracy: 0.95 | loss: 0.182979938388\n",
      " \n",
      " \n",
      "TRAIN | accuracy: 0.97 | loss: 0.0855330342054\n",
      "---------------------------------------------------\n",
      "TEST  | accuracy: 0.94 | loss: 0.183916855454\n",
      " \n",
      " \n"
     ]
    }
   ],
   "source": [
    "def better_run(model, batchsize=16, num_epochs=2):\n",
    "\n",
    "    optimizer = chainer.optimizers.Adam() # we will use chainer's Adam implementation instead of writing our own gradient based optimization\n",
    "    optimizer.setup(model)\n",
    "    \n",
    "    train_stats = defaultdict(lambda: deque(maxlen=25))\n",
    "    test_stats  = defaultdict(lambda: deque(maxlen=25)) # new\n",
    "    for epoch in range(num_epochs):\n",
    "        train_iter = chainer.iterators.SerialIterator(train, batchsize, repeat=False, shuffle=True)\n",
    "        for itr, batch in enumerate(train_iter):\n",
    "            xs_train = np.concatenate([datum[0][None, :] for datum in batch])\n",
    "            ys_train = np.array([datum[1] for datum in batch])\n",
    "\n",
    "            logits_train = model(xs_train)\n",
    "\n",
    "            loss_train = F.softmax_cross_entropy(logits_train, ys_train)\n",
    "            model.cleargrads()\n",
    "            loss_train.backward()\n",
    "            optimizer.update()\n",
    "            \n",
    "            # calculate stats\n",
    "            train_stats[\"loss\"].append(float(loss_train.data))\n",
    "            train_stats[\"accuracy\"].append(float((logits_train.data.argmax(1) == ys_train).sum() / batchsize))\n",
    "            if itr % 300 == 0:\n",
    "                test_iter = chainer.iterators.SerialIterator(test, batchsize, repeat=False, shuffle=False)\n",
    "                # *** YOUR CODE implement logging of stats on test set ***\n",
    "                \n",
    "                for itr, batch in enumerate(test_iter):\n",
    "                    xs_test = np.concatenate([datum[0][None, :] for datum in batch])\n",
    "                    ys_test = np.array([datum[1] for datum in batch])\n",
    "                    \n",
    "                    logits_test = model(xs_test)\n",
    "                    \n",
    "                    loss_test = F.softmax_cross_entropy(logits_test, ys_test)\n",
    "                    \n",
    "                    loss_test.backward()\n",
    "                    \n",
    "                    test_stats[\"loss\"].append(float(loss_test.data))\n",
    "                    test_stats[\"accuracy\"].append(float((logits_test.data.argmax(1) == ys_test).sum() / batchsize))\n",
    "            \n",
    "                \n",
    "                print(\"TRAIN | \" +\" | \".join(\"%s: %s\" % (k, np.mean(vs)) for k, vs in train_stats.items()))\n",
    "                print(\"---------------------------------------------------\")\n",
    "                print(\"TEST  | \" +\" | \".join(\"%s: %s\" % (k, np.mean(vs)) for k, vs in test_stats .items())) #new\n",
    "                print(\" \")\n",
    "                print(\" \")\n",
    "\n",
    "better_run(MLP(200, 10))"
   ]
  },
  {
   "cell_type": "markdown",
   "metadata": {},
   "source": [
    "Try different variants!\n",
    "\n",
    "- Does using a ConvNet improve performance (reduce overfitting?)\n",
    "- Try changing the learning rate and observe the effect\n",
    "- Does the model train if you give it correlated gradients? (consecutively sample many batches of \"1\", then many batches of \"2\", ... etc"
   ]
  }
 ],
 "metadata": {
  "kernelspec": {
   "display_name": "Python [conda env:deeprlbootcamp]",
   "language": "python",
   "name": "conda-env-deeprlbootcamp-py"
  },
  "language_info": {
   "codemirror_mode": {
    "name": "ipython",
    "version": 3
   },
   "file_extension": ".py",
   "mimetype": "text/x-python",
   "name": "python",
   "nbconvert_exporter": "python",
   "pygments_lexer": "ipython3",
   "version": "3.5.6"
  }
 },
 "nbformat": 4,
 "nbformat_minor": 4
}
